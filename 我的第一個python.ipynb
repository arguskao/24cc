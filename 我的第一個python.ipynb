{
  "nbformat": 4,
  "nbformat_minor": 0,
  "metadata": {
    "colab": {
      "name": "我的第一個python.ipynb",
      "provenance": [],
      "include_colab_link": true
    },
    "kernelspec": {
      "name": "python3",
      "display_name": "Python 3"
    },
    "language_info": {
      "name": "python"
    }
  },
  "cells": [
    {
      "cell_type": "markdown",
      "metadata": {
        "id": "view-in-github",
        "colab_type": "text"
      },
      "source": [
        "<a href=\"https://colab.research.google.com/github/arguskao/24cc/blob/master/%E6%88%91%E7%9A%84%E7%AC%AC%E4%B8%80%E5%80%8Bpython.ipynb\" target=\"_parent\"><img src=\"https://colab.research.google.com/assets/colab-badge.svg\" alt=\"Open In Colab\"/></a>"
      ]
    },
    {
      "cell_type": "code",
      "source": [
        "# 攝華氏溫度轉換器\n",
        "c = int(input (\"攝氏溫度多少：\")) \n",
        "print (((9*c)/5)+32)"
      ],
      "metadata": {
        "colab": {
          "base_uri": "https://localhost:8080/"
        },
        "id": "z-W1v65FLsGa",
        "outputId": "d0f3d59c-3fc8-4242-dcf6-cf6b5612fe34"
      },
      "execution_count": null,
      "outputs": [
        {
          "output_type": "stream",
          "name": "stdout",
          "text": [
            "攝氏溫度多少：100\n",
            "212.0\n"
          ]
        }
      ]
    },
    {
      "cell_type": "code",
      "source": [
        "def circle(x):\n",
        " y = x*x*3.14\n",
        " return y\n",
        "\n",
        "\n",
        "x = int(input(\"半徑：\"))\n",
        "print (\"面積是:\",circle(x)) "
      ],
      "metadata": {
        "colab": {
          "base_uri": "https://localhost:8080/"
        },
        "id": "6Kd9O1HakKzn",
        "outputId": "93e18ea8-ac1a-4a50-c731-fcfc97e7fff9"
      },
      "execution_count": null,
      "outputs": [
        {
          "output_type": "stream",
          "name": "stdout",
          "text": [
            "半徑：5\n",
            "面積是: 78.5\n"
          ]
        }
      ]
    },
    {
      "cell_type": "code",
      "source": [
        "score1 = input(\"國文：\")\n",
        "score2 = input(\"英文：\")\n",
        "total = float(score1)+ float(score2)\n",
        "print (total)"
      ],
      "metadata": {
        "colab": {
          "base_uri": "https://localhost:8080/"
        },
        "id": "qNgNqnMrIQPb",
        "outputId": "32fa56bb-ec1a-4657-b2e6-83abd2b143b2"
      },
      "execution_count": null,
      "outputs": [
        {
          "output_type": "stream",
          "name": "stdout",
          "text": [
            "國文：90\n",
            "英文：70\n",
            "160.0\n"
          ]
        }
      ]
    },
    {
      "cell_type": "code",
      "source": [
        "sum = 0\n",
        "i =1\n",
        "\n",
        "for i in range(10):\n",
        "  sum = sum + i\n",
        "  i = i + 1\n",
        "  \n",
        "print (sum)  "
      ],
      "metadata": {
        "colab": {
          "base_uri": "https://localhost:8080/"
        },
        "id": "hLFgmOm5GIdU",
        "outputId": "2171e2d7-91bc-42e4-c170-84ea19067933"
      },
      "execution_count": null,
      "outputs": [
        {
          "output_type": "stream",
          "name": "stdout",
          "text": [
            "45\n"
          ]
        }
      ]
    },
    {
      "cell_type": "code",
      "source": [
        "n=int(input(\"請隨便輸入一個數值：\"))\n",
        "m=1\n",
        "k=0\n",
        "\n",
        "while n>m:\n",
        "  m= m*2\n",
        "  k= k+1\n",
        "\n",
        "if n==m:\n",
        "  print (n,\"是2的冪次\") \n",
        "else:\n",
        "  print (n,\"不是2的冪次\")   \n"
      ],
      "metadata": {
        "colab": {
          "base_uri": "https://localhost:8080/"
        },
        "id": "i_HQNee1jyLe",
        "outputId": "63edaa2b-ff17-4fd3-d93d-a42c156a790d"
      },
      "execution_count": null,
      "outputs": [
        {
          "output_type": "stream",
          "name": "stdout",
          "text": [
            "請隨便輸入一個數值：9\n",
            "9 不是2的冪次\n"
          ]
        }
      ]
    },
    {
      "cell_type": "code",
      "source": [
        "sum = 0 \n",
        "i= 0\n",
        "for i in range(5,10,2):\n",
        "  if i<1000:\n",
        "   sum = sum + i\n",
        "   i= i + 1\n",
        "print (sum)\n"
      ],
      "metadata": {
        "colab": {
          "base_uri": "https://localhost:8080/"
        },
        "id": "YCjVp7FHSr-n",
        "outputId": "87b8a1ae-1720-42f3-97de-ec9bf9b31b38"
      },
      "execution_count": null,
      "outputs": [
        {
          "output_type": "stream",
          "name": "stdout",
          "text": [
            "21\n"
          ]
        }
      ]
    },
    {
      "cell_type": "code",
      "source": [
        "for x in range(9):\n",
        "  x= x + 1\n",
        "  for y in range(9):\n",
        "   y = y + 1\n",
        "   print ((x,y),end=\"\")  \n",
        "  print()  "
      ],
      "metadata": {
        "colab": {
          "base_uri": "https://localhost:8080/"
        },
        "id": "5OxuTV7whKnU",
        "outputId": "2ba06225-3b56-45f0-e8dc-d527b17ebe27"
      },
      "execution_count": null,
      "outputs": [
        {
          "output_type": "stream",
          "name": "stdout",
          "text": [
            "(1, 1)(1, 2)(1, 3)(1, 4)(1, 5)(1, 6)(1, 7)(1, 8)(1, 9)\n",
            "(2, 1)(2, 2)(2, 3)(2, 4)(2, 5)(2, 6)(2, 7)(2, 8)(2, 9)\n",
            "(3, 1)(3, 2)(3, 3)(3, 4)(3, 5)(3, 6)(3, 7)(3, 8)(3, 9)\n",
            "(4, 1)(4, 2)(4, 3)(4, 4)(4, 5)(4, 6)(4, 7)(4, 8)(4, 9)\n",
            "(5, 1)(5, 2)(5, 3)(5, 4)(5, 5)(5, 6)(5, 7)(5, 8)(5, 9)\n",
            "(6, 1)(6, 2)(6, 3)(6, 4)(6, 5)(6, 6)(6, 7)(6, 8)(6, 9)\n",
            "(7, 1)(7, 2)(7, 3)(7, 4)(7, 5)(7, 6)(7, 7)(7, 8)(7, 9)\n",
            "(8, 1)(8, 2)(8, 3)(8, 4)(8, 5)(8, 6)(8, 7)(8, 8)(8, 9)\n",
            "(9, 1)(9, 2)(9, 3)(9, 4)(9, 5)(9, 6)(9, 7)(9, 8)(9, 9)\n"
          ]
        }
      ]
    },
    {
      "cell_type": "code",
      "source": [
        "a=int(input(\"基本需求：\"))\n",
        "b=int(input(\"價格敏感度：\"))\n",
        "c=int(input(\"成本：\"))\n",
        "\n",
        "maxprofit=0\n",
        "bestprice=0\n",
        "\n",
        "for p in range(c+1,a//b):\n",
        "  profit= (a-b*p)*(p-c)\n",
        "  if   profit > maxprofit:\n",
        "    maxprofit= profit\n",
        "    bestprice = p \n",
        "    print (p,profit) \n",
        "print(\"最好的利潤是:\",maxprofit)\n",
        "print(\"最好的價格是:\",bestprice) "
      ],
      "metadata": {
        "colab": {
          "base_uri": "https://localhost:8080/"
        },
        "id": "vUw5X8jMsXrt",
        "outputId": "f76bb3b4-e839-4e09-e518-9babf456957a"
      },
      "execution_count": null,
      "outputs": [
        {
          "output_type": "stream",
          "name": "stdout",
          "text": [
            "基本需求：100\n",
            "價格敏感度：2\n",
            "成本：10\n",
            "11 78\n",
            "12 152\n",
            "13 222\n",
            "14 288\n",
            "15 350\n",
            "16 408\n",
            "17 462\n",
            "18 512\n",
            "19 558\n",
            "20 600\n",
            "21 638\n",
            "22 672\n",
            "23 702\n",
            "24 728\n",
            "25 750\n",
            "26 768\n",
            "27 782\n",
            "28 792\n",
            "29 798\n",
            "30 800\n",
            "最好的利潤是: 800\n",
            "最好的價格是: 30\n"
          ]
        }
      ]
    },
    {
      "cell_type": "code",
      "source": [
        "list1=[0.06,0.15,0.22,0.22,0.17,0.10,0.05,0.02,0.01]\n",
        "\n",
        "c = int(input('單位進貨成本:'))\n",
        "r = int(input('單位零售價格:'))\n",
        "N = int(input('需求的可能個數:'))\n",
        "q = int(input('訂貨量:')) \n",
        "\n",
        "Expected_profit = 0\n",
        "\n",
        "\n",
        "for j in range(2):\n",
        " for i in list1[0:9]:\n",
        "  if i < q :\n",
        "        E = ( i*r - c*q)*listi \n",
        "  else:\n",
        "        E = ((r - c)*q)*i\n",
        "  \n",
        "  Expected_profit += E\n",
        "\n",
        "\n",
        "print (Expected_profit)"
      ],
      "metadata": {
        "colab": {
          "base_uri": "https://localhost:8080/",
          "height": 310
        },
        "id": "PbTDfarP91sL",
        "outputId": "3e2275e1-3821-4d90-92b2-19a8df4ebd8d"
      },
      "execution_count": null,
      "outputs": [
        {
          "name": "stdout",
          "output_type": "stream",
          "text": [
            "單位進貨成本:2\n",
            "單位零售價格:10\n",
            "需求的可能個數:8\n",
            "訂貨量:1\n"
          ]
        },
        {
          "output_type": "error",
          "ename": "NameError",
          "evalue": "ignored",
          "traceback": [
            "\u001b[0;31m---------------------------------------------------------------------------\u001b[0m",
            "\u001b[0;31mNameError\u001b[0m                                 Traceback (most recent call last)",
            "\u001b[0;32m<ipython-input-1-aede1eba6ee1>\u001b[0m in \u001b[0;36m<module>\u001b[0;34m()\u001b[0m\n\u001b[1;32m     12\u001b[0m  \u001b[0;32mfor\u001b[0m \u001b[0mi\u001b[0m \u001b[0;32min\u001b[0m \u001b[0mlist1\u001b[0m\u001b[0;34m[\u001b[0m\u001b[0;36m0\u001b[0m\u001b[0;34m:\u001b[0m\u001b[0;36m9\u001b[0m\u001b[0;34m]\u001b[0m\u001b[0;34m:\u001b[0m\u001b[0;34m\u001b[0m\u001b[0;34m\u001b[0m\u001b[0m\n\u001b[1;32m     13\u001b[0m   \u001b[0;32mif\u001b[0m \u001b[0mi\u001b[0m \u001b[0;34m<\u001b[0m \u001b[0mq\u001b[0m \u001b[0;34m:\u001b[0m\u001b[0;34m\u001b[0m\u001b[0;34m\u001b[0m\u001b[0m\n\u001b[0;32m---> 14\u001b[0;31m         \u001b[0mE\u001b[0m \u001b[0;34m=\u001b[0m \u001b[0;34m(\u001b[0m \u001b[0mi\u001b[0m\u001b[0;34m*\u001b[0m\u001b[0mr\u001b[0m \u001b[0;34m-\u001b[0m \u001b[0mc\u001b[0m\u001b[0;34m*\u001b[0m\u001b[0mq\u001b[0m\u001b[0;34m)\u001b[0m\u001b[0;34m*\u001b[0m\u001b[0mlisti\u001b[0m\u001b[0;34m\u001b[0m\u001b[0;34m\u001b[0m\u001b[0m\n\u001b[0m\u001b[1;32m     15\u001b[0m   \u001b[0;32melse\u001b[0m\u001b[0;34m:\u001b[0m\u001b[0;34m\u001b[0m\u001b[0;34m\u001b[0m\u001b[0m\n\u001b[1;32m     16\u001b[0m         \u001b[0mE\u001b[0m \u001b[0;34m=\u001b[0m \u001b[0;34m(\u001b[0m\u001b[0;34m(\u001b[0m\u001b[0mr\u001b[0m \u001b[0;34m-\u001b[0m \u001b[0mc\u001b[0m\u001b[0;34m)\u001b[0m\u001b[0;34m*\u001b[0m\u001b[0mq\u001b[0m\u001b[0;34m)\u001b[0m\u001b[0;34m*\u001b[0m\u001b[0mi\u001b[0m\u001b[0;34m\u001b[0m\u001b[0;34m\u001b[0m\u001b[0m\n",
            "\u001b[0;31mNameError\u001b[0m: name 'listi' is not defined"
          ]
        }
      ]
    },
    {
      "cell_type": "code",
      "source": [
        "import turtle\n",
        "turtle.pensize(4)"
      ],
      "metadata": {
        "colab": {
          "base_uri": "https://localhost:8080/",
          "height": 368
        },
        "id": "Azv4GMGR7Odi",
        "outputId": "6aa72737-22df-4e5d-ac19-21c127d301f7"
      },
      "execution_count": null,
      "outputs": [
        {
          "output_type": "error",
          "ename": "TclError",
          "evalue": "ignored",
          "traceback": [
            "\u001b[0;31m---------------------------------------------------------------------------\u001b[0m",
            "\u001b[0;31mTclError\u001b[0m                                  Traceback (most recent call last)",
            "\u001b[0;32m<ipython-input-2-af71e807d584>\u001b[0m in \u001b[0;36m<module>\u001b[0;34m()\u001b[0m\n\u001b[1;32m      1\u001b[0m \u001b[0;32mimport\u001b[0m \u001b[0mturtle\u001b[0m\u001b[0;34m\u001b[0m\u001b[0;34m\u001b[0m\u001b[0m\n\u001b[0;32m----> 2\u001b[0;31m \u001b[0mturtle\u001b[0m\u001b[0;34m.\u001b[0m\u001b[0mpensize\u001b[0m\u001b[0;34m(\u001b[0m\u001b[0;36m4\u001b[0m\u001b[0;34m)\u001b[0m\u001b[0;34m\u001b[0m\u001b[0;34m\u001b[0m\u001b[0m\n\u001b[0m",
            "\u001b[0;32m/usr/lib/python3.7/turtle.py\u001b[0m in \u001b[0;36mpensize\u001b[0;34m(width)\u001b[0m\n",
            "\u001b[0;32m/usr/lib/python3.7/turtle.py\u001b[0m in \u001b[0;36m__init__\u001b[0;34m(self, shape, undobuffersize, visible)\u001b[0m\n\u001b[1;32m   3810\u001b[0m                  visible=_CFG[\"visible\"]):\n\u001b[1;32m   3811\u001b[0m         \u001b[0;32mif\u001b[0m \u001b[0mTurtle\u001b[0m\u001b[0;34m.\u001b[0m\u001b[0m_screen\u001b[0m \u001b[0;32mis\u001b[0m \u001b[0;32mNone\u001b[0m\u001b[0;34m:\u001b[0m\u001b[0;34m\u001b[0m\u001b[0;34m\u001b[0m\u001b[0m\n\u001b[0;32m-> 3812\u001b[0;31m             \u001b[0mTurtle\u001b[0m\u001b[0;34m.\u001b[0m\u001b[0m_screen\u001b[0m \u001b[0;34m=\u001b[0m \u001b[0mScreen\u001b[0m\u001b[0;34m(\u001b[0m\u001b[0;34m)\u001b[0m\u001b[0;34m\u001b[0m\u001b[0;34m\u001b[0m\u001b[0m\n\u001b[0m\u001b[1;32m   3813\u001b[0m         RawTurtle.__init__(self, Turtle._screen,\n\u001b[1;32m   3814\u001b[0m                            \u001b[0mshape\u001b[0m\u001b[0;34m=\u001b[0m\u001b[0mshape\u001b[0m\u001b[0;34m,\u001b[0m\u001b[0;34m\u001b[0m\u001b[0;34m\u001b[0m\u001b[0m\n",
            "\u001b[0;32m/usr/lib/python3.7/turtle.py\u001b[0m in \u001b[0;36mScreen\u001b[0;34m()\u001b[0m\n\u001b[1;32m   3660\u001b[0m     else return the existing one.\"\"\"\n\u001b[1;32m   3661\u001b[0m     \u001b[0;32mif\u001b[0m \u001b[0mTurtle\u001b[0m\u001b[0;34m.\u001b[0m\u001b[0m_screen\u001b[0m \u001b[0;32mis\u001b[0m \u001b[0;32mNone\u001b[0m\u001b[0;34m:\u001b[0m\u001b[0;34m\u001b[0m\u001b[0;34m\u001b[0m\u001b[0m\n\u001b[0;32m-> 3662\u001b[0;31m         \u001b[0mTurtle\u001b[0m\u001b[0;34m.\u001b[0m\u001b[0m_screen\u001b[0m \u001b[0;34m=\u001b[0m \u001b[0m_Screen\u001b[0m\u001b[0;34m(\u001b[0m\u001b[0;34m)\u001b[0m\u001b[0;34m\u001b[0m\u001b[0;34m\u001b[0m\u001b[0m\n\u001b[0m\u001b[1;32m   3663\u001b[0m     \u001b[0;32mreturn\u001b[0m \u001b[0mTurtle\u001b[0m\u001b[0;34m.\u001b[0m\u001b[0m_screen\u001b[0m\u001b[0;34m\u001b[0m\u001b[0;34m\u001b[0m\u001b[0m\n\u001b[1;32m   3664\u001b[0m \u001b[0;34m\u001b[0m\u001b[0m\n",
            "\u001b[0;32m/usr/lib/python3.7/turtle.py\u001b[0m in \u001b[0;36m__init__\u001b[0;34m(self)\u001b[0m\n\u001b[1;32m   3676\u001b[0m         \u001b[0;31m# preserved (perhaps by passing it as an optional parameter)\u001b[0m\u001b[0;34m\u001b[0m\u001b[0;34m\u001b[0m\u001b[0;34m\u001b[0m\u001b[0m\n\u001b[1;32m   3677\u001b[0m         \u001b[0;32mif\u001b[0m \u001b[0m_Screen\u001b[0m\u001b[0;34m.\u001b[0m\u001b[0m_root\u001b[0m \u001b[0;32mis\u001b[0m \u001b[0;32mNone\u001b[0m\u001b[0;34m:\u001b[0m\u001b[0;34m\u001b[0m\u001b[0;34m\u001b[0m\u001b[0m\n\u001b[0;32m-> 3678\u001b[0;31m             \u001b[0m_Screen\u001b[0m\u001b[0;34m.\u001b[0m\u001b[0m_root\u001b[0m \u001b[0;34m=\u001b[0m \u001b[0mself\u001b[0m\u001b[0;34m.\u001b[0m\u001b[0m_root\u001b[0m \u001b[0;34m=\u001b[0m \u001b[0m_Root\u001b[0m\u001b[0;34m(\u001b[0m\u001b[0;34m)\u001b[0m\u001b[0;34m\u001b[0m\u001b[0;34m\u001b[0m\u001b[0m\n\u001b[0m\u001b[1;32m   3679\u001b[0m             \u001b[0mself\u001b[0m\u001b[0;34m.\u001b[0m\u001b[0m_root\u001b[0m\u001b[0;34m.\u001b[0m\u001b[0mtitle\u001b[0m\u001b[0;34m(\u001b[0m\u001b[0m_Screen\u001b[0m\u001b[0;34m.\u001b[0m\u001b[0m_title\u001b[0m\u001b[0;34m)\u001b[0m\u001b[0;34m\u001b[0m\u001b[0;34m\u001b[0m\u001b[0m\n\u001b[1;32m   3680\u001b[0m             \u001b[0mself\u001b[0m\u001b[0;34m.\u001b[0m\u001b[0m_root\u001b[0m\u001b[0;34m.\u001b[0m\u001b[0mondestroy\u001b[0m\u001b[0;34m(\u001b[0m\u001b[0mself\u001b[0m\u001b[0;34m.\u001b[0m\u001b[0m_destroy\u001b[0m\u001b[0;34m)\u001b[0m\u001b[0;34m\u001b[0m\u001b[0;34m\u001b[0m\u001b[0m\n",
            "\u001b[0;32m/usr/lib/python3.7/turtle.py\u001b[0m in \u001b[0;36m__init__\u001b[0;34m(self)\u001b[0m\n\u001b[1;32m    432\u001b[0m     \u001b[0;34m\"\"\"Root class for Screen based on Tkinter.\"\"\"\u001b[0m\u001b[0;34m\u001b[0m\u001b[0;34m\u001b[0m\u001b[0m\n\u001b[1;32m    433\u001b[0m     \u001b[0;32mdef\u001b[0m \u001b[0m__init__\u001b[0m\u001b[0;34m(\u001b[0m\u001b[0mself\u001b[0m\u001b[0;34m)\u001b[0m\u001b[0;34m:\u001b[0m\u001b[0;34m\u001b[0m\u001b[0;34m\u001b[0m\u001b[0m\n\u001b[0;32m--> 434\u001b[0;31m         \u001b[0mTK\u001b[0m\u001b[0;34m.\u001b[0m\u001b[0mTk\u001b[0m\u001b[0;34m.\u001b[0m\u001b[0m__init__\u001b[0m\u001b[0;34m(\u001b[0m\u001b[0mself\u001b[0m\u001b[0;34m)\u001b[0m\u001b[0;34m\u001b[0m\u001b[0;34m\u001b[0m\u001b[0m\n\u001b[0m\u001b[1;32m    435\u001b[0m \u001b[0;34m\u001b[0m\u001b[0m\n\u001b[1;32m    436\u001b[0m     \u001b[0;32mdef\u001b[0m \u001b[0msetupcanvas\u001b[0m\u001b[0;34m(\u001b[0m\u001b[0mself\u001b[0m\u001b[0;34m,\u001b[0m \u001b[0mwidth\u001b[0m\u001b[0;34m,\u001b[0m \u001b[0mheight\u001b[0m\u001b[0;34m,\u001b[0m \u001b[0mcwidth\u001b[0m\u001b[0;34m,\u001b[0m \u001b[0mcheight\u001b[0m\u001b[0;34m)\u001b[0m\u001b[0;34m:\u001b[0m\u001b[0;34m\u001b[0m\u001b[0;34m\u001b[0m\u001b[0m\n",
            "\u001b[0;32m/usr/lib/python3.7/tkinter/__init__.py\u001b[0m in \u001b[0;36m__init__\u001b[0;34m(self, screenName, baseName, className, useTk, sync, use)\u001b[0m\n\u001b[1;32m   2021\u001b[0m                 \u001b[0mbaseName\u001b[0m \u001b[0;34m=\u001b[0m \u001b[0mbaseName\u001b[0m \u001b[0;34m+\u001b[0m \u001b[0mext\u001b[0m\u001b[0;34m\u001b[0m\u001b[0;34m\u001b[0m\u001b[0m\n\u001b[1;32m   2022\u001b[0m         \u001b[0minteractive\u001b[0m \u001b[0;34m=\u001b[0m \u001b[0;36m0\u001b[0m\u001b[0;34m\u001b[0m\u001b[0;34m\u001b[0m\u001b[0m\n\u001b[0;32m-> 2023\u001b[0;31m         \u001b[0mself\u001b[0m\u001b[0;34m.\u001b[0m\u001b[0mtk\u001b[0m \u001b[0;34m=\u001b[0m \u001b[0m_tkinter\u001b[0m\u001b[0;34m.\u001b[0m\u001b[0mcreate\u001b[0m\u001b[0;34m(\u001b[0m\u001b[0mscreenName\u001b[0m\u001b[0;34m,\u001b[0m \u001b[0mbaseName\u001b[0m\u001b[0;34m,\u001b[0m \u001b[0mclassName\u001b[0m\u001b[0;34m,\u001b[0m \u001b[0minteractive\u001b[0m\u001b[0;34m,\u001b[0m \u001b[0mwantobjects\u001b[0m\u001b[0;34m,\u001b[0m \u001b[0museTk\u001b[0m\u001b[0;34m,\u001b[0m \u001b[0msync\u001b[0m\u001b[0;34m,\u001b[0m \u001b[0muse\u001b[0m\u001b[0;34m)\u001b[0m\u001b[0;34m\u001b[0m\u001b[0;34m\u001b[0m\u001b[0m\n\u001b[0m\u001b[1;32m   2024\u001b[0m         \u001b[0;32mif\u001b[0m \u001b[0museTk\u001b[0m\u001b[0;34m:\u001b[0m\u001b[0;34m\u001b[0m\u001b[0;34m\u001b[0m\u001b[0m\n\u001b[1;32m   2025\u001b[0m             \u001b[0mself\u001b[0m\u001b[0;34m.\u001b[0m\u001b[0m_loadtk\u001b[0m\u001b[0;34m(\u001b[0m\u001b[0;34m)\u001b[0m\u001b[0;34m\u001b[0m\u001b[0;34m\u001b[0m\u001b[0m\n",
            "\u001b[0;31mTclError\u001b[0m: no display name and no $DISPLAY environment variable"
          ]
        }
      ]
    },
    {
      "cell_type": "code",
      "source": [
        "score= float(input(\"請輸入分數：\"))\n",
        "if score >= 0.9:\n",
        " print (\"A\")\n",
        "else:\n",
        " print (\"不格即\")"
      ],
      "metadata": {
        "colab": {
          "base_uri": "https://localhost:8080/"
        },
        "id": "ZWvbLZkQJ43b",
        "outputId": "cbb1a052-df8d-42b7-a9fa-d1fe12f21b30"
      },
      "execution_count": null,
      "outputs": [
        {
          "output_type": "stream",
          "name": "stdout",
          "text": [
            "請輸入分數：0.5\n",
            "不格即\n"
          ]
        }
      ]
    },
    {
      "cell_type": "code",
      "source": [
        "def computepay(hrs, rate):\n",
        "    if hrs >=40:\n",
        "        Pay=(40 +(hrs-40)*1.5)*rate \n",
        "    else:\n",
        "        Pay = hrs *40\n",
        "    return Pay\n",
        "\n",
        "\n",
        "p = computepay(45, 10.5)\n",
        "print(\"Pay\", p)"
      ],
      "metadata": {
        "colab": {
          "base_uri": "https://localhost:8080/"
        },
        "id": "ZU3d7s0LXSTi",
        "outputId": "0eaf6b63-0a88-46b7-a762-56257e99a2c5"
      },
      "execution_count": null,
      "outputs": [
        {
          "output_type": "stream",
          "name": "stdout",
          "text": [
            "Pay 498.75\n"
          ]
        }
      ]
    },
    {
      "cell_type": "code",
      "source": [
        "            \n",
        "\n",
        "def computepay(hours, rate):\n",
        "    if hours >=40:\n",
        "        Pay=(40 +(hours-40)*1.5)*rate \n",
        "    else:\n",
        "        Pay = hours *40\n",
        "    return Pay\n",
        "\n",
        "hours=float(input(\"請輸入時間:\"))\n",
        "rate=float(input(\"請輸入rate:\"))\n",
        "\n",
        "#p = computepay(45, 10.5)\n",
        "print(\"Pay\", p)"
      ],
      "metadata": {
        "id": "FE7jbByTDRdw"
      },
      "execution_count": null,
      "outputs": []
    },
    {
      "cell_type": "code",
      "source": [
        "a = 22\n",
        "b = 33\n",
        " \n",
        "try:\n",
        "    if a < b:\n",
        "        print(n)\n",
        "except:\n",
        "    print(\"except\")\n",
        " \n",
        "print(\"after exception....\")\n",
        " "
      ],
      "metadata": {
        "colab": {
          "base_uri": "https://localhost:8080/"
        },
        "id": "e-RMi-MCEpjA",
        "outputId": "d4ea0666-0be3-42b3-ce6b-52506b5d7bc6"
      },
      "execution_count": null,
      "outputs": [
        {
          "output_type": "stream",
          "name": "stdout",
          "text": [
            "except\n",
            "after exception....\n"
          ]
        }
      ]
    },
    {
      "cell_type": "code",
      "source": [
        "smallest = None\n",
        "for value in [9,41,12,3,74,15]:\n",
        "  if value is smallest:\n",
        "    value = smallest\n",
        "  elif value < smallest:\n",
        "    value = smallest\n",
        "  print(smallest,value)  \n",
        "print(smallest)  \n"
      ],
      "metadata": {
        "colab": {
          "base_uri": "https://localhost:8080/",
          "height": 240
        },
        "id": "_7yATH5dKYQu",
        "outputId": "456feb57-6d1f-4fb0-9d83-0490d7864477"
      },
      "execution_count": null,
      "outputs": [
        {
          "output_type": "error",
          "ename": "TypeError",
          "evalue": "ignored",
          "traceback": [
            "\u001b[0;31m---------------------------------------------------------------------------\u001b[0m",
            "\u001b[0;31mTypeError\u001b[0m                                 Traceback (most recent call last)",
            "\u001b[0;32m<ipython-input-5-c81292cc1700>\u001b[0m in \u001b[0;36m<module>\u001b[0;34m()\u001b[0m\n\u001b[1;32m      3\u001b[0m   \u001b[0;32mif\u001b[0m \u001b[0mvalue\u001b[0m \u001b[0;32mis\u001b[0m \u001b[0msmallest\u001b[0m\u001b[0;34m:\u001b[0m\u001b[0;34m\u001b[0m\u001b[0;34m\u001b[0m\u001b[0m\n\u001b[1;32m      4\u001b[0m     \u001b[0mvalue\u001b[0m \u001b[0;34m=\u001b[0m \u001b[0msmallest\u001b[0m\u001b[0;34m\u001b[0m\u001b[0;34m\u001b[0m\u001b[0m\n\u001b[0;32m----> 5\u001b[0;31m   \u001b[0;32melif\u001b[0m \u001b[0mvalue\u001b[0m \u001b[0;34m<\u001b[0m \u001b[0msmallest\u001b[0m\u001b[0;34m:\u001b[0m\u001b[0;34m\u001b[0m\u001b[0;34m\u001b[0m\u001b[0m\n\u001b[0m\u001b[1;32m      6\u001b[0m     \u001b[0mvalue\u001b[0m \u001b[0;34m=\u001b[0m \u001b[0msmallest\u001b[0m\u001b[0;34m\u001b[0m\u001b[0;34m\u001b[0m\u001b[0m\n\u001b[1;32m      7\u001b[0m   \u001b[0mprint\u001b[0m\u001b[0;34m(\u001b[0m\u001b[0msmallest\u001b[0m\u001b[0;34m,\u001b[0m\u001b[0mvalue\u001b[0m\u001b[0;34m)\u001b[0m\u001b[0;34m\u001b[0m\u001b[0;34m\u001b[0m\u001b[0m\n",
            "\u001b[0;31mTypeError\u001b[0m: '<' not supported between instances of 'int' and 'NoneType'"
          ]
        }
      ]
    },
    {
      "cell_type": "code",
      "source": [
        "c = int(input('單位進貨成本:'))\n",
        "r = int(input('單位零售價格:'))\n",
        "N = int(input('需求的可能個數:'))\n",
        "q = int(input('訂貨量:')) \n",
        "\n",
        "Expected_profit = 0\n",
        "p = [0.11,0.01,0,0.04,0.82,0,0,0.02,0]  # 儲存數值於list中\n",
        "for i in range(N + 1):  # 把 0 到 N 數值代入1\n",
        "    if i < q :\n",
        "        E = ( i*r - c*q)*p[i] \n",
        "    else:\n",
        "        E = ((r - c)*q)*p[i]\n",
        "    Expected_profit = E + Expected_profit\n",
        "\n",
        "\n",
        "\n",
        "\n",
        "\n",
        "print('預期獲利:'+str(Expected_profit))"
      ],
      "metadata": {
        "colab": {
          "base_uri": "https://localhost:8080/"
        },
        "id": "YG0dwf_TMeAs",
        "outputId": "037d8ae0-87f1-4cca-d7f6-c7dba2926f03"
      },
      "execution_count": null,
      "outputs": [
        {
          "output_type": "stream",
          "name": "stdout",
          "text": [
            "單位進貨成本:2\n",
            "單位零售價格:10\n",
            "需求的可能個數:8\n",
            "訂貨量:1\n",
            "預期獲利:6.8999999999999995\n"
          ]
        }
      ]
    },
    {
      "cell_type": "code",
      "source": [
        "p = [0.06,0.15,0.22,0.22,0.17,0.10,0.05,0.02,0.01]\n",
        "p[0]"
      ],
      "metadata": {
        "colab": {
          "base_uri": "https://localhost:8080/"
        },
        "id": "gsBjDLL8cGip",
        "outputId": "941b489b-e489-417e-fe1c-628af8f44566"
      },
      "execution_count": null,
      "outputs": [
        {
          "output_type": "execute_result",
          "data": {
            "text/plain": [
              "0.06"
            ]
          },
          "metadata": {},
          "execution_count": 32
        }
      ]
    },
    {
      "cell_type": "code",
      "source": [
        "location= geocoder.osm('國立高雄師範大學').latlng\n",
        "location\n",
        "m= folium.Map(location=location,zoom_start=100)\n",
        "folium.Marker(location=location,popup=\"國立高雄師範大學\").add_to(m)\n",
        "m"
      ],
      "metadata": {
        "colab": {
          "base_uri": "https://localhost:8080/",
          "height": 435
        },
        "id": "yP78b7ROOjKT",
        "outputId": "12ed0618-0bde-4d6a-a02e-6cd57cf833db"
      },
      "execution_count": null,
      "outputs": [
        {
          "output_type": "execute_result",
          "data": {
            "text/html": [
              "<div style=\"width:100%;\"><div style=\"position:relative;width:100%;height:0;padding-bottom:60%;\"><span style=\"color:#565656\">Make this Notebook Trusted to load map: File -> Trust Notebook</span><iframe src=\"about:blank\" style=\"position:absolute;width:100%;height:100%;left:0;top:0;border:none !important;\" data-html=%3C%21DOCTYPE%20html%3E%0A%3Chead%3E%20%20%20%20%0A%20%20%20%20%3Cmeta%20http-equiv%3D%22content-type%22%20content%3D%22text/html%3B%20charset%3DUTF-8%22%20/%3E%0A%20%20%20%20%3Cscript%3EL_PREFER_CANVAS%3Dfalse%3B%20L_NO_TOUCH%3Dfalse%3B%20L_DISABLE_3D%3Dfalse%3B%3C/script%3E%0A%20%20%20%20%3Cscript%20src%3D%22https%3A//cdn.jsdelivr.net/npm/leaflet%401.4.0/dist/leaflet.js%22%3E%3C/script%3E%0A%20%20%20%20%3Cscript%20src%3D%22https%3A//code.jquery.com/jquery-1.12.4.min.js%22%3E%3C/script%3E%0A%20%20%20%20%3Cscript%20src%3D%22https%3A//maxcdn.bootstrapcdn.com/bootstrap/3.2.0/js/bootstrap.min.js%22%3E%3C/script%3E%0A%20%20%20%20%3Cscript%20src%3D%22https%3A//cdnjs.cloudflare.com/ajax/libs/Leaflet.awesome-markers/2.0.2/leaflet.awesome-markers.js%22%3E%3C/script%3E%0A%20%20%20%20%3Clink%20rel%3D%22stylesheet%22%20href%3D%22https%3A//cdn.jsdelivr.net/npm/leaflet%401.4.0/dist/leaflet.css%22/%3E%0A%20%20%20%20%3Clink%20rel%3D%22stylesheet%22%20href%3D%22https%3A//maxcdn.bootstrapcdn.com/bootstrap/3.2.0/css/bootstrap.min.css%22/%3E%0A%20%20%20%20%3Clink%20rel%3D%22stylesheet%22%20href%3D%22https%3A//maxcdn.bootstrapcdn.com/bootstrap/3.2.0/css/bootstrap-theme.min.css%22/%3E%0A%20%20%20%20%3Clink%20rel%3D%22stylesheet%22%20href%3D%22https%3A//maxcdn.bootstrapcdn.com/font-awesome/4.6.3/css/font-awesome.min.css%22/%3E%0A%20%20%20%20%3Clink%20rel%3D%22stylesheet%22%20href%3D%22https%3A//cdnjs.cloudflare.com/ajax/libs/Leaflet.awesome-markers/2.0.2/leaflet.awesome-markers.css%22/%3E%0A%20%20%20%20%3Clink%20rel%3D%22stylesheet%22%20href%3D%22https%3A//rawcdn.githack.com/python-visualization/folium/master/folium/templates/leaflet.awesome.rotate.css%22/%3E%0A%20%20%20%20%3Cstyle%3Ehtml%2C%20body%20%7Bwidth%3A%20100%25%3Bheight%3A%20100%25%3Bmargin%3A%200%3Bpadding%3A%200%3B%7D%3C/style%3E%0A%20%20%20%20%3Cstyle%3E%23map%20%7Bposition%3Aabsolute%3Btop%3A0%3Bbottom%3A0%3Bright%3A0%3Bleft%3A0%3B%7D%3C/style%3E%0A%20%20%20%20%0A%20%20%20%20%3Cmeta%20name%3D%22viewport%22%20content%3D%22width%3Ddevice-width%2C%0A%20%20%20%20%20%20%20%20initial-scale%3D1.0%2C%20maximum-scale%3D1.0%2C%20user-scalable%3Dno%22%20/%3E%0A%20%20%20%20%3Cstyle%3E%23map_3d81a2efde054f3d9f7a8d2401d56c4a%20%7B%0A%20%20%20%20%20%20%20%20position%3A%20relative%3B%0A%20%20%20%20%20%20%20%20width%3A%20100.0%25%3B%0A%20%20%20%20%20%20%20%20height%3A%20100.0%25%3B%0A%20%20%20%20%20%20%20%20left%3A%200.0%25%3B%0A%20%20%20%20%20%20%20%20top%3A%200.0%25%3B%0A%20%20%20%20%20%20%20%20%7D%0A%20%20%20%20%3C/style%3E%0A%3C/head%3E%0A%3Cbody%3E%20%20%20%20%0A%20%20%20%20%0A%20%20%20%20%3Cdiv%20class%3D%22folium-map%22%20id%3D%22map_3d81a2efde054f3d9f7a8d2401d56c4a%22%20%3E%3C/div%3E%0A%3C/body%3E%0A%3Cscript%3E%20%20%20%20%0A%20%20%20%20%0A%20%20%20%20%0A%20%20%20%20%20%20%20%20var%20bounds%20%3D%20null%3B%0A%20%20%20%20%0A%0A%20%20%20%20var%20map_3d81a2efde054f3d9f7a8d2401d56c4a%20%3D%20L.map%28%0A%20%20%20%20%20%20%20%20%27map_3d81a2efde054f3d9f7a8d2401d56c4a%27%2C%20%7B%0A%20%20%20%20%20%20%20%20center%3A%20%5B22.6255295%2C%20120.32159609508065%5D%2C%0A%20%20%20%20%20%20%20%20zoom%3A%20100%2C%0A%20%20%20%20%20%20%20%20maxBounds%3A%20bounds%2C%0A%20%20%20%20%20%20%20%20layers%3A%20%5B%5D%2C%0A%20%20%20%20%20%20%20%20worldCopyJump%3A%20false%2C%0A%20%20%20%20%20%20%20%20crs%3A%20L.CRS.EPSG3857%2C%0A%20%20%20%20%20%20%20%20zoomControl%3A%20true%2C%0A%20%20%20%20%20%20%20%20%7D%29%3B%0A%0A%0A%20%20%20%20%0A%20%20%20%20var%20tile_layer_461e828ddf8049ceac5e6625db307a0c%20%3D%20L.tileLayer%28%0A%20%20%20%20%20%20%20%20%27https%3A//%7Bs%7D.tile.openstreetmap.org/%7Bz%7D/%7Bx%7D/%7By%7D.png%27%2C%0A%20%20%20%20%20%20%20%20%7B%0A%20%20%20%20%20%20%20%20%22attribution%22%3A%20null%2C%0A%20%20%20%20%20%20%20%20%22detectRetina%22%3A%20false%2C%0A%20%20%20%20%20%20%20%20%22maxNativeZoom%22%3A%2018%2C%0A%20%20%20%20%20%20%20%20%22maxZoom%22%3A%2018%2C%0A%20%20%20%20%20%20%20%20%22minZoom%22%3A%200%2C%0A%20%20%20%20%20%20%20%20%22noWrap%22%3A%20false%2C%0A%20%20%20%20%20%20%20%20%22opacity%22%3A%201%2C%0A%20%20%20%20%20%20%20%20%22subdomains%22%3A%20%22abc%22%2C%0A%20%20%20%20%20%20%20%20%22tms%22%3A%20false%0A%7D%29.addTo%28map_3d81a2efde054f3d9f7a8d2401d56c4a%29%3B%0A%20%20%20%20%0A%20%20%20%20%20%20%20%20var%20marker_9230178dbf13441e97fa64ff7db67204%20%3D%20L.marker%28%0A%20%20%20%20%20%20%20%20%20%20%20%20%5B22.6255295%2C%20120.32159609508065%5D%2C%0A%20%20%20%20%20%20%20%20%20%20%20%20%7B%0A%20%20%20%20%20%20%20%20%20%20%20%20%20%20%20%20icon%3A%20new%20L.Icon.Default%28%29%2C%0A%20%20%20%20%20%20%20%20%20%20%20%20%20%20%20%20%7D%0A%20%20%20%20%20%20%20%20%20%20%20%20%29.addTo%28map_3d81a2efde054f3d9f7a8d2401d56c4a%29%3B%0A%20%20%20%20%20%20%20%20%0A%20%20%20%20%0A%20%20%20%20%20%20%20%20%20%20%20%20var%20popup_8e8aac5f94dc45718a3ff4b99dcd5a4e%20%3D%20L.popup%28%7BmaxWidth%3A%20%27100%25%27%0A%20%20%20%20%20%20%20%20%20%20%20%20%0A%20%20%20%20%20%20%20%20%20%20%20%20%7D%29%3B%0A%0A%20%20%20%20%20%20%20%20%20%20%20%20%0A%20%20%20%20%20%20%20%20%20%20%20%20%20%20%20%20var%20html_0d8063b4dba64f478755dbccdc2b6fc0%20%3D%20%24%28%60%3Cdiv%20id%3D%22html_0d8063b4dba64f478755dbccdc2b6fc0%22%20style%3D%22width%3A%20100.0%25%3B%20height%3A%20100.0%25%3B%22%3E%E5%9C%8B%E7%AB%8B%E9%AB%98%E9%9B%84%E5%B8%AB%E7%AF%84%E5%A4%A7%E5%AD%B8%3C/div%3E%60%29%5B0%5D%3B%0A%20%20%20%20%20%20%20%20%20%20%20%20%20%20%20%20popup_8e8aac5f94dc45718a3ff4b99dcd5a4e.setContent%28html_0d8063b4dba64f478755dbccdc2b6fc0%29%3B%0A%20%20%20%20%20%20%20%20%20%20%20%20%0A%0A%20%20%20%20%20%20%20%20%20%20%20%20marker_9230178dbf13441e97fa64ff7db67204.bindPopup%28popup_8e8aac5f94dc45718a3ff4b99dcd5a4e%29%0A%20%20%20%20%20%20%20%20%20%20%20%20%3B%0A%0A%20%20%20%20%20%20%20%20%20%20%20%20%0A%20%20%20%20%20%20%20%20%0A%3C/script%3E onload=\"this.contentDocument.open();this.contentDocument.write(    decodeURIComponent(this.getAttribute('data-html')));this.contentDocument.close();\" allowfullscreen webkitallowfullscreen mozallowfullscreen></iframe></div></div>"
            ],
            "text/plain": [
              "<folium.folium.Map at 0x7f51729e4ed0>"
            ]
          },
          "metadata": {},
          "execution_count": 19
        }
      ]
    },
    {
      "cell_type": "code",
      "source": [
        "list=[1,2,3,4,5,6,7,8,9,10,11,12]\n",
        "len(list)\n",
        "\n",
        "for i in range(len(list)):      \n",
        "  print (i)"
      ],
      "metadata": {
        "colab": {
          "base_uri": "https://localhost:8080/"
        },
        "id": "PRFdSZF-T9Ie",
        "outputId": "a32583ce-a86d-4bdd-c4e0-c7dc9ef075a8"
      },
      "execution_count": null,
      "outputs": [
        {
          "output_type": "stream",
          "name": "stdout",
          "text": [
            "0\n",
            "1\n",
            "2\n",
            "3\n",
            "4\n",
            "5\n",
            "6\n",
            "7\n",
            "8\n",
            "9\n",
            "10\n",
            "11\n"
          ]
        }
      ]
    },
    {
      "cell_type": "code",
      "source": [
        "import pandas as pd\n",
        "url = \"https://dts.twse.com.tw/opendata/t187ap03_L.csv\"\n",
        "df = pd.read_csv(url)\n",
        "all = df[\"公司簡稱\"]\n",
        "import random"
      ],
      "metadata": {
        "id": "0e50s7iMcZzq"
      },
      "execution_count": null,
      "outputs": []
    },
    {
      "cell_type": "code",
      "source": [
        "strategy1=random.choices(all,k=100)"
      ],
      "metadata": {
        "id": "ZIeYySdccuhJ"
      },
      "execution_count": null,
      "outputs": []
    },
    {
      "cell_type": "code",
      "source": [
        "strategy2=random.choices(all,k=150)"
      ],
      "metadata": {
        "id": "Udok7JgMdQ7Z"
      },
      "execution_count": null,
      "outputs": []
    },
    {
      "cell_type": "markdown",
      "source": [
        ""
      ],
      "metadata": {
        "id": "y3xs67Ehdd4P"
      }
    },
    {
      "cell_type": "code",
      "source": [
        "set(strategy1) & set ( strategy2)"
      ],
      "metadata": {
        "colab": {
          "base_uri": "https://localhost:8080/"
        },
        "id": "WuBUNaADdolj",
        "outputId": "3074241a-96e7-4ef0-9111-eaa5eda040a4"
      },
      "execution_count": null,
      "outputs": [
        {
          "output_type": "execute_result",
          "data": {
            "text/plain": [
              "{'一零四',\n",
              " '兆赫',\n",
              " '力特',\n",
              " '勤美',\n",
              " '南港',\n",
              " '國光生',\n",
              " '大飲',\n",
              " '宏達電',\n",
              " '展碁國際',\n",
              " '山隆',\n",
              " '恆大',\n",
              " '晶碩',\n",
              " '瑞軒',\n",
              " '申豐',\n",
              " '皇鼎',\n",
              " '聯邦銀',\n",
              " '虹光',\n",
              " '連宇',\n",
              " '長華*'}"
            ]
          },
          "metadata": {},
          "execution_count": 61
        }
      ]
    },
    {
      "cell_type": "code",
      "source": [
        "strategy2\n"
      ],
      "metadata": {
        "colab": {
          "base_uri": "https://localhost:8080/"
        },
        "id": "eHSBSBSTduWV",
        "outputId": "6a5fe0b5-1279-4bd5-a251-3c832bf6b823"
      },
      "execution_count": null,
      "outputs": [
        {
          "output_type": "execute_result",
          "data": {
            "text/plain": [
              "['偉全',\n",
              " '勝悅-KY',\n",
              " '台端',\n",
              " '安馳',\n",
              " '南亞科',\n",
              " '上曜',\n",
              " '友通',\n",
              " '訊映',\n",
              " '居易',\n",
              " '旭暉應材',\n",
              " '永記',\n",
              " '隆大',\n",
              " '宏碁',\n",
              " '皇鼎',\n",
              " '允強',\n",
              " '全坤建',\n",
              " '巨庭',\n",
              " '達新',\n",
              " '鴻海',\n",
              " '高興昌',\n",
              " '高雄銀',\n",
              " '晶豪科',\n",
              " '谷崧',\n",
              " '事欣科',\n",
              " '台苯',\n",
              " '遠百',\n",
              " '建國',\n",
              " '京元電子',\n",
              " '創見',\n",
              " '展宇',\n",
              " '和潤企業',\n",
              " '神腦',\n",
              " '全友',\n",
              " '盟立',\n",
              " '浩鑫',\n",
              " '雷虎',\n",
              " '英瑞-KY',\n",
              " '虹揚-KY',\n",
              " '文曄',\n",
              " '虹冠電',\n",
              " '佳醫',\n",
              " '藍天',\n",
              " '儒鴻',\n",
              " '皇翔',\n",
              " '凱撒衛',\n",
              " '復盛應用',\n",
              " '宏洲',\n",
              " '志強-KY',\n",
              " '科定',\n",
              " '信錦',\n",
              " '長興',\n",
              " '聯強',\n",
              " '建碁',\n",
              " '建國',\n",
              " '嘉彰',\n",
              " '聯德',\n",
              " '力成',\n",
              " '開發金',\n",
              " '首利',\n",
              " '鋐寶科技',\n",
              " '氣立',\n",
              " '國巨',\n",
              " '嘉彰',\n",
              " '台塑',\n",
              " '康舒',\n",
              " '倫飛',\n",
              " '永固-KY',\n",
              " '毅嘉',\n",
              " '劍麟',\n",
              " '安馳',\n",
              " '神基',\n",
              " '泰鼎-KY',\n",
              " '燦星網',\n",
              " '帆宣',\n",
              " '連宇',\n",
              " '文曄',\n",
              " '台苯',\n",
              " '第一銅',\n",
              " '第一銅',\n",
              " '聯昌',\n",
              " '中石化',\n",
              " '柏文',\n",
              " '儒鴻',\n",
              " '立隆電',\n",
              " '東華',\n",
              " '瑞軒',\n",
              " '卜蜂',\n",
              " '大飲',\n",
              " '恆大',\n",
              " '亞聚',\n",
              " '遠見',\n",
              " '三商',\n",
              " '裕隆',\n",
              " '安集',\n",
              " '達新',\n",
              " '大億',\n",
              " '勝悅-KY',\n",
              " 'ABC-KY',\n",
              " '鑽全',\n",
              " '王品',\n",
              " '四維航',\n",
              " '允強',\n",
              " '展碁國際',\n",
              " '台船',\n",
              " '寶齡富錦',\n",
              " '達欣工',\n",
              " '關貿',\n",
              " '瑞利',\n",
              " '凌巨',\n",
              " '德律',\n",
              " '國巨',\n",
              " '至上',\n",
              " '寶一',\n",
              " '艾美特-KY',\n",
              " '中櫃',\n",
              " '嘉基',\n",
              " '彰源',\n",
              " '毛寶',\n",
              " '建準',\n",
              " '鴻海',\n",
              " '群創',\n",
              " '宏達電',\n",
              " '譁裕',\n",
              " '力銘',\n",
              " '中華電',\n",
              " '康師傅-DR',\n",
              " '洋華',\n",
              " '誠創',\n",
              " '中宇',\n",
              " '弘裕',\n",
              " '劍麟',\n",
              " '杏輝',\n",
              " '威宏-KY',\n",
              " '萬海',\n",
              " '崇越',\n",
              " '鑫禾',\n",
              " '智原',\n",
              " '台肥',\n",
              " '山隆',\n",
              " '創見',\n",
              " '安集',\n",
              " '金麗-KY',\n",
              " '中磊',\n",
              " '鳳凰',\n",
              " '聯電',\n",
              " '玉晶光',\n",
              " '星通',\n",
              " '關貿',\n",
              " '全漢',\n",
              " '同開']"
            ]
          },
          "metadata": {},
          "execution_count": 56
        }
      ]
    },
    {
      "cell_type": "code",
      "source": [
        "\n",
        "\n",
        "def func(w,h):\n",
        "  BMI = w/(h*h)\n",
        "  print(BMI)\n",
        "\n"
      ],
      "metadata": {
        "colab": {
          "base_uri": "https://localhost:8080/",
          "height": 222
        },
        "id": "Rj3s7v_gfA0o",
        "outputId": "8cdb141d-185b-4710-efae-48d32e52ed55"
      },
      "execution_count": null,
      "outputs": [
        {
          "output_type": "stream",
          "name": "stdout",
          "text": [
            "0.12\n"
          ]
        },
        {
          "output_type": "error",
          "ename": "TypeError",
          "evalue": "ignored",
          "traceback": [
            "\u001b[0;31m---------------------------------------------------------------------------\u001b[0m",
            "\u001b[0;31mTypeError\u001b[0m                                 Traceback (most recent call last)",
            "\u001b[0;32m<ipython-input-106-89c7be9925fc>\u001b[0m in \u001b[0;36m<module>\u001b[0;34m()\u001b[0m\n\u001b[1;32m      5\u001b[0m   \u001b[0mprint\u001b[0m\u001b[0;34m(\u001b[0m\u001b[0mBMI\u001b[0m\u001b[0;34m)\u001b[0m\u001b[0;34m\u001b[0m\u001b[0;34m\u001b[0m\u001b[0m\n\u001b[1;32m      6\u001b[0m \u001b[0;34m\u001b[0m\u001b[0m\n\u001b[0;32m----> 7\u001b[0;31m \u001b[0mfloat\u001b[0m\u001b[0;34m(\u001b[0m\u001b[0mfunc\u001b[0m\u001b[0;34m(\u001b[0m\u001b[0;36m3\u001b[0m\u001b[0;34m,\u001b[0m\u001b[0;36m5\u001b[0m\u001b[0;34m)\u001b[0m\u001b[0;34m)\u001b[0m\u001b[0;34m\u001b[0m\u001b[0;34m\u001b[0m\u001b[0m\n\u001b[0m",
            "\u001b[0;31mTypeError\u001b[0m: float() argument must be a string or a number, not 'NoneType'"
          ]
        }
      ]
    },
    {
      "cell_type": "code",
      "source": [
        "def book(price,weight=\"10\",is_2hand=\"true\"):\n",
        "    print(\"price:\",price,\"重量是：\",weight,\"是否2手:\",is_2hand)\n",
        "\n",
        "book(100)"
      ],
      "metadata": {
        "colab": {
          "base_uri": "https://localhost:8080/"
        },
        "id": "WPkp5JON0Br1",
        "outputId": "fc69001f-f4ec-4a40-83e6-4aff0f463981"
      },
      "execution_count": null,
      "outputs": [
        {
          "output_type": "stream",
          "name": "stdout",
          "text": [
            "price: 100 重量是： 10 是否2手: true\n"
          ]
        }
      ]
    },
    {
      "cell_type": "code",
      "source": [
        "for i in range(10):\n",
        "    if i == 5:\n",
        "     continue\n",
        "    else:\n",
        "     print(i)\n"
      ],
      "metadata": {
        "colab": {
          "base_uri": "https://localhost:8080/"
        },
        "id": "dbrdc2uFpO0Q",
        "outputId": "02a3bbeb-8035-4d8b-d816-76939e205fc8"
      },
      "execution_count": null,
      "outputs": [
        {
          "output_type": "stream",
          "name": "stdout",
          "text": [
            "0\n",
            "1\n",
            "2\n",
            "3\n",
            "4\n",
            "6\n",
            "7\n",
            "8\n",
            "9\n"
          ]
        }
      ]
    },
    {
      "cell_type": "code",
      "source": [
        "dic1={\"apple\":1,\"orange\":2}\n",
        "dic1[\"pear\"]=3\n",
        "print(dic1)"
      ],
      "metadata": {
        "colab": {
          "base_uri": "https://localhost:8080/"
        },
        "id": "Rof8iDo1TkEW",
        "outputId": "25a4fa22-fe1e-4c18-e233-dee4448a8a76"
      },
      "execution_count": 26,
      "outputs": [
        {
          "output_type": "stream",
          "name": "stdout",
          "text": [
            "{'apple': 1, 'orange': 2, 'pear': 3}\n"
          ]
        }
      ]
    },
    {
      "cell_type": "code",
      "source": [
        "import random\n",
        "\n",
        "x=random.sample(['雙子','獅子','山羊','雙魚','金牛','水瓶'],3)\n",
        "print(\"今年幸運的星座是:\",x)"
      ],
      "metadata": {
        "colab": {
          "base_uri": "https://localhost:8080/"
        },
        "id": "OQHY725IU7yR",
        "outputId": "889d2991-396e-4a99-f4e1-32518cac0b4b"
      },
      "execution_count": 64,
      "outputs": [
        {
          "output_type": "stream",
          "name": "stdout",
          "text": [
            "今年幸運的星座是: ['山羊', '獅子', '金牛']\n"
          ]
        }
      ]
    },
    {
      "cell_type": "code",
      "source": [
        "import datetime\n",
        "today = datetime.date.today()\n",
        "list=['名','財','官','利','交','敗','衰','煞','絕']\n",
        "a=int(input(\"請輸入民國年次：\"))\n",
        "n=int(input(\"請輸入姓名總筆劃：（以康熙字典為準)\"))\n",
        "b=(today.year-a-1911+1)\n",
        "a1=(n%9)\n",
        "c=(today.year-1911)\n",
        "c1=(c%9)\n",
        "print(\"您今年\"+str(b)+\"歲(虛歲)\")\n",
        "\n",
        "#print(a1)\n",
        "#print (\"今年是民國：\"+str(c)+\"年\")\n",
        "#print(d)\n",
        "if a1<d:\n",
        "  r= a1-d+9\n",
        "else:\n",
        "  r= d-a1  \n",
        "print(\"您的流年走:\",list[r])"
      ],
      "metadata": {
        "colab": {
          "base_uri": "https://localhost:8080/"
        },
        "id": "TfnkjO0oimii",
        "outputId": "18fc4c6f-9e4e-44f3-a1ff-015b68c90e21"
      },
      "execution_count": 93,
      "outputs": [
        {
          "output_type": "stream",
          "name": "stdout",
          "text": [
            "請輸入民國年次：59\n",
            "請輸入姓名總筆劃：（以康熙字典為準)31\n",
            "您今年53歲(虛歲)\n",
            "今年是民國：111年\n",
            "您的流年走: 絕\n"
          ]
        }
      ]
    },
    {
      "cell_type": "code",
      "source": [
        "list=['冠帶','臨官','帝望','衰','病','死','絕','胎','養','長生']\n",
        "a=int(input(\"請輸入民國年次：\"))\n",
        "n=int(input(\"請輸入姓名總筆劃：（以康熙字典為準)\"))\n",
        "b=(today.year-a-1911+1)\n",
        "n1=(n%10)\n",
        "c=(today.year-1911)\n",
        "b1=(b%10)\n",
        "print(\"您今年\"+str(b)+\"歲(虛歲)\")\n",
        "#print (\"今年是民國：\"+str(c)+\"年\")\n",
        "\n",
        "if b1>n1:\n",
        "  r= b1-n1\n",
        "else:\n",
        "  r= b1-n1+10  \n",
        "print(\"您的流年走:\",list[r])"
      ],
      "metadata": {
        "colab": {
          "base_uri": "https://localhost:8080/"
        },
        "id": "JmK8BMxTrvzM",
        "outputId": "c3c122f5-005f-4caa-cb9d-3d1fb5a9ae09"
      },
      "execution_count": 103,
      "outputs": [
        {
          "output_type": "stream",
          "name": "stdout",
          "text": [
            "請輸入民國年次：59\n",
            "請輸入姓名總筆劃：（以康熙字典為準)31\n",
            "您今年53歲(虛歲)\n",
            "今年是民國：111年\n",
            "您的流年走: 帝望\n"
          ]
        }
      ]
    },
    {
      "cell_type": "code",
      "source": [
        "fate=[['四季運轉如微風，靜心等待不落空；昔日若行虧心事，今日進得牢籠中。(太極)','冷熱交替逢太初，乍暖還寒風輕拂；年初若遇多是非，歲末必得貴人助。(兩儀)','左右逢源貴人旺，人吃骨頭我喝湯；若想得盡名與利，看你機運強不強。(小得)','一人之下萬人上，正氣歌裡文天祥；十二金牌召岳飛，徒呼負負怎逞強。(名望)','鴻運當頭喜連天，歡喜快活似神仙；今朝狀元何處尋，不在天邊在眼前。(名聲)','登峰造極易忘形，敲鑼打鼓奏鐘磬，借問何處是戰場，九州之內任我行。(巔峰)','助人點滴不望報，暗箭傷人笑裡刀，勸君為善不為惡，因果循環必難逃。(因果)','左有文曲右文昌，劉備身邊趙馬黃，若無臥龍與鳳雛，怎把威名天下揚。(良臣)','臨危受命升三級，今生難得此奇蹟，魚與熊掌難兼得，盼求功名不求利。(功名)','掌中傀儡難自由，喜怒哀樂任人糗，溥儀三歲登帝位，顛沛流離福難求。(虛名)'],\n",
        "      ['天羅地網無處逃，今番恐怕難解套，夏末秋初得此卦，若要強闖會糟糕。(套牢)','小心駛得萬年船，萬事守成保平安，原地踏步等時機，過了今年就好辦。(守成)','滴滴泉水可穿石，聚沙成塔才確實，皆說滾石不生苔，望君本業再堅持。(暗財)','若如高處不勝寒，戰戰兢兢度難關，出師未捷身先死，長使英雄淚滿衫。(抑制)','柳暗花明又一村，興高采烈勝新婚，恰如天邊流星過，機會消失不再輪。(曇花)','愚公移山雖難成，夜以繼日心意誠，他日感動上天助，金銀珠寶千百層。(努力)','一朝江郎才盡時，夢筆生花不再來，人心不足蛇吞象，世事臨頭螂撲蟬。(忌貪)','賺多賠少真不賴，艱苦經營可聚財，若是貪心亂投資，恐怕釀成大禍災。(經營)','關公兵敗走麥城，劉備報仇留遺恨，空有孔明曠世才，六出祈山功難成。(斷頭)','曹操重用司馬昭，魏家天下成晉朝，借問朝政有多糟，皆因君王不早朝。(包袱)'],\n",
        "      ['蕭規曹隨承前例，不動腦筋少力氣，千萬不可當前鋒，前人種樹後人取。(承接)','偷雞不著蝕把米, 巴蛇吞象撐破皮，切記不可太貪心，賠了夫人又折兵。(貪心)','口含寶玉來出生，看似一片好前程，千萬莫當劉阿斗，樂不思蜀過一生。(阿斗)','光明殿上改遺詔，助得君王好運交，登台拜將授兵權，底定江山看今朝。(升官)','遍地機會任你挑，心癢難耐想跳槽，寧可兼職等時機，轉職還得待明朝。(兼差)','行百里路半九十，臨門一腳要堅持，眼看終點要到達，煮熟鴨子卻消失。(升官)','鯉躍龍門需等待，幻化成龍非凡胎，千方百計尋貴人，定能助你展長才。(栽培)','此路不通勿戀棧，繼續苦撐有困難，另覓他處求發展，更勝一番苦激戰。(圖利)','大鵬展翅三千里，渺小蚨蝣在水裡，近朱者赤近墨黑，佞臣小人速遠離。(層級)','龍游潛灘遭蝦戲，虎落平陽被犬欺，十年生聚不算晚，再展抱負不用急。(困難)'],\n",
        "      ['滿天星辰眼底收，雙手亂抓仍不夠，晴天霹靂雲端落，夢醒黃粱仍未熟。(作夢)','前朝苦果擔滿肩，要想平安不得閒，盲人瞎馬卻疾行，受得驚嚇卻無險。(驚險)','三更燈火勤讀書，清寒孤枝獨扶疏，男兒求取功名時，一舉成名天下知。(奮鬥)','田裡滿是黑土壤，春耕秋收盼冬藏，舉債買來稻穀種，怎知蝗蟲要囂張。(破財)','十戰九敗真艱難，將士無心再戀戰，此時敵軍糧草盡，機不可失勿自滿。(追擊)','荒蕪田地獨自墾，百里之內無城鎮，終年汗滴禾下土，兩鬢斑白方有成。(破財)','身體老邁名不再，門前冷落無人來，退出江湖歸隱去，每日上山去砍柴。(退隱)','昔日過關斬六將，水淹七軍功襄陽，今朝遇得絆馬索，一代忠良香火享。(失蹄)','螳螂補禪黃雀後，還有獵人在守候，凡事瞻前須回頭，野心勃勃防外露。(野心)','蠅撲窗紙滿頭包，跌跌撞撞無路逃，只是此門打不開，三思後行方可保。(未開)'],\n",
        "      [],\n",
        "      [],\n",
        "      []]\n",
        "print(fate[1][3])      \n",
        "\n",
        "\n"
      ],
      "metadata": {
        "colab": {
          "base_uri": "https://localhost:8080/"
        },
        "id": "WbDIAfNqulod",
        "outputId": "581c0303-c8b2-4a27-f195-7d4f1b93f6e0"
      },
      "execution_count": 121,
      "outputs": [
        {
          "output_type": "stream",
          "name": "stdout",
          "text": [
            "若如高處不勝寒，戰戰兢兢度難關，出師未捷身先死，長使英雄淚滿衫。(抑制)\n"
          ]
        }
      ]
    },
    {
      "cell_type": "code",
      "source": [
        "from google.colab import drive\n",
        "drive.mount('/content/drive')"
      ],
      "metadata": {
        "colab": {
          "base_uri": "https://localhost:8080/"
        },
        "id": "sedey-4zwH0I",
        "outputId": "dc205c27-4726-4706-c75f-dcd3cbaa370d"
      },
      "execution_count": 104,
      "outputs": [
        {
          "output_type": "stream",
          "name": "stdout",
          "text": [
            "Mounted at /content/drive\n"
          ]
        }
      ]
    },
    {
      "cell_type": "code",
      "source": [
        "\n",
        "f=open(/content/fate1.csv)"
      ],
      "metadata": {
        "colab": {
          "base_uri": "https://localhost:8080/",
          "height": 135
        },
        "id": "2wo_1HiLvkCV",
        "outputId": "827f61db-3cb4-4a53-f350-abc3f1b2535b"
      },
      "execution_count": 115,
      "outputs": [
        {
          "output_type": "error",
          "ename": "SyntaxError",
          "evalue": "ignored",
          "traceback": [
            "\u001b[0;36m  File \u001b[0;32m\"<ipython-input-115-9f6eb6852fe2>\"\u001b[0;36m, line \u001b[0;32m2\u001b[0m\n\u001b[0;31m    open(/content/fate1.csv)\u001b[0m\n\u001b[0m         ^\u001b[0m\n\u001b[0;31mSyntaxError\u001b[0m\u001b[0;31m:\u001b[0m invalid syntax\n"
          ]
        }
      ]
    }
  ]
}